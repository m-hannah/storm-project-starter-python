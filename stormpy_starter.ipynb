{
 "cells": [
  {
   "cell_type": "code",
   "execution_count": null,
   "metadata": {},
   "outputs": [],
   "source": [
    "import stormpy as sp"
   ]
  },
  {
   "cell_type": "code",
   "execution_count": null,
   "metadata": {},
   "outputs": [],
   "source": [
    "program = sp.parse_prism_program(\"examples/die.pm\")\n",
    "props = sp.parse_properties(\"examples/die.pctl\", program)\n",
    "model = sp.build_model(program, props)\n",
    "result = sp.model_checking(model, props[0])\n",
    "\n",
    "result.at(model.initial_states[0]) > 0.5"
   ]
  },
  {
   "cell_type": "code",
   "execution_count": null,
   "metadata": {},
   "outputs": [],
   "source": [
    "program = sp.parse_prism_program(\"examples/die.pm\")\n",
    "props = sp.parse_properties(\"examples/die2.pctl\", program)\n",
    "model = sp.build_model(program, props)\n",
    "result = sp.model_checking(model, props[0])\n",
    "\n",
    "result.at(model.initial_states[0]) > 0.5"
   ]
  }
 ],
 "metadata": {
  "kernelspec": {
   "display_name": "Python 3",
   "language": "python",
   "name": "python3"
  },
  "language_info": {
   "codemirror_mode": {
    "name": "ipython",
    "version": 3
   },
   "file_extension": ".py",
   "mimetype": "text/x-python",
   "name": "python",
   "nbconvert_exporter": "python",
   "pygments_lexer": "ipython3",
   "version": "3.8.2"
  }
 },
 "nbformat": 4,
 "nbformat_minor": 4
}
